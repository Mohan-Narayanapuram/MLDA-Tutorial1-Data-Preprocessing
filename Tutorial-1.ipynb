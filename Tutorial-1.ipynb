{
 "cells": [
  {
   "cell_type": "markdown",
   "id": "f778c173-bd69-4b13-8b80-dad42fe629ac",
   "metadata": {},
   "source": [
    "# Tutorial 1: Data Preprocessing\n",
    "\n",
    "In this tutorial, we perform **data preprocessing** on the *Medical Insurance Charges* dataset.\n",
    "\n",
    "### Why Preprocessing?\n",
    "\n",
    "Even though the dataset is clean, preprocessing is necessary because:\n",
    "\n",
    "- Models require **numerical** inputs, so we must encode categorical data.\n",
    "- Features like `age`, `bmi`, and `children` are on different **scales**, which can affect model performance.\n",
    "- We need to **split** data into training and testing sets for evaluation.\n",
    "\n",
    "---\n",
    "\n",
    "### Preprocessing Steps:\n",
    "1. Load the dataset\n",
    "2. Check for missing values\n",
    "3. Separate features and target\n",
    "4. Encode categorical columns\n",
    "5. Scale numerical columns\n",
    "6. Split into train-test sets"
   ]
  },
  {
   "cell_type": "code",
   "execution_count": 2,
   "id": "1b24838d-6286-4c3e-8b88-9ad9fa8d9193",
   "metadata": {},
   "outputs": [],
   "source": [
    "import pandas as pd\n",
    "import numpy as np\n",
    "from sklearn.model_selection import train_test_split\n",
    "from sklearn.preprocessing import StandardScaler, OneHotEncoder\n",
    "from sklearn.compose import ColumnTransformer"
   ]
  },
  {
   "cell_type": "code",
   "execution_count": 5,
   "id": "020d80ed-abb3-4589-9b31-b8d4f96fa97e",
   "metadata": {},
   "outputs": [
    {
     "data": {
      "text/html": [
       "<div>\n",
       "<style scoped>\n",
       "    .dataframe tbody tr th:only-of-type {\n",
       "        vertical-align: middle;\n",
       "    }\n",
       "\n",
       "    .dataframe tbody tr th {\n",
       "        vertical-align: top;\n",
       "    }\n",
       "\n",
       "    .dataframe thead th {\n",
       "        text-align: right;\n",
       "    }\n",
       "</style>\n",
       "<table border=\"1\" class=\"dataframe\">\n",
       "  <thead>\n",
       "    <tr style=\"text-align: right;\">\n",
       "      <th></th>\n",
       "      <th>age</th>\n",
       "      <th>sex</th>\n",
       "      <th>bmi</th>\n",
       "      <th>children</th>\n",
       "      <th>smoker</th>\n",
       "      <th>region</th>\n",
       "      <th>charges</th>\n",
       "    </tr>\n",
       "  </thead>\n",
       "  <tbody>\n",
       "    <tr>\n",
       "      <th>0</th>\n",
       "      <td>19</td>\n",
       "      <td>female</td>\n",
       "      <td>27.900</td>\n",
       "      <td>0</td>\n",
       "      <td>yes</td>\n",
       "      <td>southwest</td>\n",
       "      <td>16884.92400</td>\n",
       "    </tr>\n",
       "    <tr>\n",
       "      <th>1</th>\n",
       "      <td>18</td>\n",
       "      <td>male</td>\n",
       "      <td>33.770</td>\n",
       "      <td>1</td>\n",
       "      <td>no</td>\n",
       "      <td>southeast</td>\n",
       "      <td>1725.55230</td>\n",
       "    </tr>\n",
       "    <tr>\n",
       "      <th>2</th>\n",
       "      <td>28</td>\n",
       "      <td>male</td>\n",
       "      <td>33.000</td>\n",
       "      <td>3</td>\n",
       "      <td>no</td>\n",
       "      <td>southeast</td>\n",
       "      <td>4449.46200</td>\n",
       "    </tr>\n",
       "    <tr>\n",
       "      <th>3</th>\n",
       "      <td>33</td>\n",
       "      <td>male</td>\n",
       "      <td>22.705</td>\n",
       "      <td>0</td>\n",
       "      <td>no</td>\n",
       "      <td>northwest</td>\n",
       "      <td>21984.47061</td>\n",
       "    </tr>\n",
       "    <tr>\n",
       "      <th>4</th>\n",
       "      <td>32</td>\n",
       "      <td>male</td>\n",
       "      <td>28.880</td>\n",
       "      <td>0</td>\n",
       "      <td>no</td>\n",
       "      <td>northwest</td>\n",
       "      <td>3866.85520</td>\n",
       "    </tr>\n",
       "  </tbody>\n",
       "</table>\n",
       "</div>"
      ],
      "text/plain": [
       "   age     sex     bmi  children smoker     region      charges\n",
       "0   19  female  27.900         0    yes  southwest  16884.92400\n",
       "1   18    male  33.770         1     no  southeast   1725.55230\n",
       "2   28    male  33.000         3     no  southeast   4449.46200\n",
       "3   33    male  22.705         0     no  northwest  21984.47061\n",
       "4   32    male  28.880         0     no  northwest   3866.85520"
      ]
     },
     "execution_count": 5,
     "metadata": {},
     "output_type": "execute_result"
    }
   ],
   "source": [
    "url = \"https://raw.githubusercontent.com/stedy/Machine-Learning-with-R-datasets/master/insurance.csv\"\n",
    "df = pd.read_csv(url)\n",
    "df.head()"
   ]
  },
  {
   "cell_type": "markdown",
   "id": "f2db4944-4f71-4cdb-b535-359ef7e317e3",
   "metadata": {},
   "source": [
    "### Dataset Overview\n",
    "\n",
    "This dataset contains information about individuals such as:\n",
    "\n",
    "- `age`, `sex`, `bmi`, `children`, `smoker`, `region`, and `charges`.\n",
    "\n",
    "`charges` is our **target** variable — the amount billed by the insurance provider."
   ]
  },
  {
   "cell_type": "code",
   "execution_count": 14,
   "id": "77280cf0-72d2-49be-ba72-07ddf013ebee",
   "metadata": {},
   "outputs": [
    {
     "data": {
      "text/plain": [
       "age         0\n",
       "sex         0\n",
       "bmi         0\n",
       "children    0\n",
       "smoker      0\n",
       "region      0\n",
       "charges     0\n",
       "dtype: int64"
      ]
     },
     "execution_count": 14,
     "metadata": {},
     "output_type": "execute_result"
    }
   ],
   "source": [
    "df.isnull().sum() #Checking for missing values"
   ]
  },
  {
   "cell_type": "code",
   "execution_count": 16,
   "id": "4e47c0bb-d1ff-46d0-b1ec-e854fb243bee",
   "metadata": {},
   "outputs": [],
   "source": [
    "X = df.drop(\"charges\", axis=1)\n",
    "y = df[\"charges\"] #Feature & Target Separation"
   ]
  },
  {
   "cell_type": "code",
   "execution_count": 18,
   "id": "f3bd0654-a3ae-45b5-83e7-bc6f17e1406c",
   "metadata": {},
   "outputs": [],
   "source": [
    "categorical_features = ['sex', 'smoker', 'region']\n",
    "numerical_features = ['age', 'bmi', 'children']\n",
    "\n",
    "preprocessor = ColumnTransformer([\n",
    "    (\"num\", StandardScaler(), numerical_features),\n",
    "    (\"cat\", OneHotEncoder(drop=\"first\"), categorical_features)\n",
    "]) #Preprocesing setup"
   ]
  },
  {
   "cell_type": "code",
   "execution_count": 20,
   "id": "894054b0-bbfc-48a7-8413-c8da7797be1c",
   "metadata": {},
   "outputs": [
    {
     "data": {
      "text/plain": [
       "array([[-1.43876426, -0.45332   , -0.90861367,  0.        ,  1.        ,\n",
       "         0.        ,  0.        ,  1.        ],\n",
       "       [-1.50996545,  0.5096211 , -0.07876719,  1.        ,  0.        ,\n",
       "         0.        ,  1.        ,  0.        ],\n",
       "       [-0.79795355,  0.38330685,  1.58092576,  1.        ,  0.        ,\n",
       "         0.        ,  1.        ,  0.        ],\n",
       "       [-0.4419476 , -1.30553108, -0.90861367,  1.        ,  0.        ,\n",
       "         1.        ,  0.        ,  0.        ],\n",
       "       [-0.51314879, -0.29255641, -0.90861367,  1.        ,  0.        ,\n",
       "         1.        ,  0.        ,  0.        ]])"
      ]
     },
     "execution_count": 20,
     "metadata": {},
     "output_type": "execute_result"
    }
   ],
   "source": [
    "#Applying Transformation\n",
    "X_processed = preprocessor.fit_transform(X)\n",
    "X_processed[:5]  # Check first few rows"
   ]
  },
  {
   "cell_type": "code",
   "execution_count": 22,
   "id": "0b423447-61cd-4bee-94f9-62785c307c85",
   "metadata": {},
   "outputs": [
    {
     "data": {
      "text/plain": [
       "((1070, 8), (268, 8))"
      ]
     },
     "execution_count": 22,
     "metadata": {},
     "output_type": "execute_result"
    }
   ],
   "source": [
    "X_train, X_test, y_train, y_test = train_test_split(\n",
    "    X_processed, y, test_size=0.2, random_state=42\n",
    ")\n",
    "\n",
    "X_train.shape, X_test.shape #Spliting Data"
   ]
  },
  {
   "cell_type": "code",
   "execution_count": 24,
   "id": "f38bcf42-5231-41f8-b0ec-8e8f2ca9f332",
   "metadata": {},
   "outputs": [
    {
     "data": {
      "text/plain": [
       "['insurance_data_split.pkl']"
      ]
     },
     "execution_count": 24,
     "metadata": {},
     "output_type": "execute_result"
    }
   ],
   "source": [
    "import joblib\n",
    "\n",
    "# Save preprocessor and split data\n",
    "joblib.dump(preprocessor, \"preprocessor.pkl\")\n",
    "joblib.dump((X_train, X_test, y_train, y_test), \"insurance_data_split.pkl\")"
   ]
  }
 ],
 "metadata": {
  "kernelspec": {
   "display_name": "Python 3 (ipykernel)",
   "language": "python",
   "name": "python3"
  },
  "language_info": {
   "codemirror_mode": {
    "name": "ipython",
    "version": 3
   },
   "file_extension": ".py",
   "mimetype": "text/x-python",
   "name": "python",
   "nbconvert_exporter": "python",
   "pygments_lexer": "ipython3",
   "version": "3.12.4"
  }
 },
 "nbformat": 4,
 "nbformat_minor": 5
}
